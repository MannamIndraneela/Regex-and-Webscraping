{
 "cells": [
  {
   "cell_type": "markdown",
   "metadata": {},
   "source": [
    "## Regex:Regular Expressions\n",
    "\n",
    "**If we want to represent a group of strings that follows a particular pattern**\n",
    "- We will use in the areas of application.\n",
    "- In Python we will use regex.\n",
    "  \n",
    "  - Metacharacters:\n",
    "     -   .\n",
    "     -   ^\n",
    "     -   $\n",
    "     -   *\n",
    "     -   +\n",
    "     -   ?\n",
    "     -   {\n",
    "     -   }\n",
    "     -   [\n",
    "     -   ]\n",
    "     -   (\n",
    "     -   )\n",
    "     -   | \n",
    "     -   \\\n",
    "  \n",
    "**Character Classes: [ ]\n",
    "   - We are matching only one character at a time.\n",
    "\n",
    "## For practicing regex: https://regex101.com\n",
    "\n",
    "- [abc]:searching either a or b or c\n",
    "\n",
    "- Example 1: \n",
    "\n",
    "   - Target = My name is Indu\n",
    "   - Pattern = [abc]\n",
    "   - Match = 1 \n",
    "     - Explanation: we are finding a match of a or b or c in the target and there is only one match found i.e., a (match found in name).\n",
    "   \n",
    "\n",
    "- [^abc]:searching except a and b and c i.e., excluding a and b and c\n",
    "- Example 2: \n",
    "\n",
    "   - Target = My name is Indu\n",
    "   - Pattern = [^abc]\n",
    "   - Match = 14 including spaces.\n",
    "     - Explanation: we are finding a match except a and b and c in the target and there are 14 matches found i.e., (excluding a from the entire Target).\n",
    " \n",
    "\n",
    "- [abcdefgh....z] = [a-z]\n",
    "- Example 3:\n",
    "\n",
    "   - Target = My name is Indu\n",
    "   - Pattern = [a-z]\n",
    "   - Match = 10 (only small letters and excluding spaces)\n",
    "   \n",
    "\n",
    "- [ABCDEFGH....Z] = [A-Z]   \n",
    "- Example 4:\n",
    "\n",
    "   - Target = My name is Indu\n",
    "   - Pattern = [A-Z]\n",
    "   - Match = 2 (only Capital letters and excluding spaces)\n",
    "   \n",
    "\n",
    "- [a-zA-Z]: To match all the alphabets excluding spaces.\n",
    "- Example 5:\n",
    "\n",
    "   - Target = My name is Indu\n",
    "   - Pattern = [a-zA-Z]\n",
    "   - Match = 12 (matching all the alphabets excluding spaces)\n",
    "   \n",
    "\n",
    "- [0-9]: To match all the numbers\n",
    "- Example 6:\n",
    "\n",
    "   - Target = My name is Indu and my age is 22\n",
    "   - Pattern = [0-9]\n",
    "   - Match = 2 (matching all the numbers only)\n",
    "   \n",
    "\n",
    "- [a-zA-Z0-9]:\n",
    "    - Alphanumeric: To match all the alphabets(capital letters and small letters as well as numbers except spaces).\n",
    "- Example 7:\n",
    "\n",
    "   - Target = My name is Indu and my age is 22\n",
    "   - Pattern = [a-zA-Z0-9]\n",
    "   - Match = 24 (matching alphanumeric except spaces)\n",
    "   \n",
    "\n",
    "- [^a-zA-Z0-9]:\n",
    "     - Match everything except alphanumeric\n",
    "     - ^ : except\n",
    "- Example 8:\n",
    "\n",
    "   - Target = My name is Indu and my age is 22\n",
    "   - Pattern = [^a-zA-Z0-9]\n",
    "   - Match = 8 (except alphanumeric, matching spaces) \n",
    "   \n",
    "\n",
    "**Predefined Character Classes**\n",
    "  \n",
    "  - \\d : Matching any digit.\n",
    "     \n",
    "     - Example 9:\n",
    "     \n",
    "   - Target = My name is Indu and my age is 22\n",
    "   - Pattern = \\d\n",
    "   - Match = 2 (only matching digits)\n",
    "   \n",
    "  - \\D : Matching everything except digit including spaces.\n",
    "     \n",
    "     - Example 10:\n",
    "     \n",
    "   - Target = My name is Indu and my age is 22\n",
    "   - Pattern = \\D\n",
    "   - Match = 30 (Matching everything including spaces)\n",
    "   \n",
    "  - \\w : Matching Alphanumeric except spaces.\n",
    "     \n",
    "     - Example 11:\n",
    "     \n",
    "   - Target = My name is Indu and my age is 22\n",
    "   - Pattern = \\w\n",
    "   - Match = 24 (Matching alphanumeric excluding spaces)\n",
    "   \n",
    "  - \\s : Only matching spaces. \n",
    "     \n",
    "     - Example 12:\n",
    "     \n",
    "   - Target = My name is Indu and my age is 22\n",
    "   - Pattern = \\s\n",
    "   - Match = 8 (Matching only spaces)\n",
    "    \n",
    "   \n",
    "  - . : dot represents match anything except a new line.\n",
    "   \n",
    "\n",
    "**Quantifiers**\n",
    "\n",
    "   - *\n",
    "   - +\n",
    "   - ?\n",
    "   - {\n",
    "   - }\n",
    "   \n",
    "- a : match 'a'  \n",
    "     \n",
    "     - Example 13:\n",
    "     \n",
    "   - Target = abcd\n",
    "   - Pattern = a\n",
    "   - Match = 1 (Matching number of 'a's)  \n",
    "     \n",
    "     - Example 14:\n",
    "     \n",
    "   - Target = abacaad\n",
    "   - Pattern = a\n",
    "   - Match = 4 (Matching number of 'a's)   \n",
    "       \n",
    "\n",
    "- a+ : match atleast one 'a' (one or more 'a') \n",
    "     \n",
    "     - Example 15:\n",
    "     \n",
    "   - Target = abcd\n",
    "   - Pattern = a+\n",
    "   - Match = 1 (Matching atleast one 'a')  \n",
    "     \n",
    "     - Example 16:\n",
    "     \n",
    "   - Target = abacaad\n",
    "   - Pattern = a+\n",
    "   - Match = 3 (Matching atleast one 'a' i.e., a,a,aa) \n",
    "   \n",
    "     \n",
    " - a* : match either '0' or one 'a'  \n",
    "     \n",
    "     - Example 17:\n",
    "     \n",
    "   - Target = abcd\n",
    "   - Pattern = a*\n",
    "   - Match = 5 (Matching either '0' or one 'a')  \n",
    "     \n",
    "     - Example 18:\n",
    "     \n",
    "   - Target = abacaad\n",
    "   - Pattern = a*\n",
    "   - Match = 7 (Matching either '0' or one 'a')   \n",
    "         \n",
    " \n",
    " - a? : match exactly '0' or one 'a'  \n",
    "     \n",
    "     - Example 19:\n",
    "     \n",
    "   - Target = abcd\n",
    "   - Pattern = a?\n",
    "   - Match = 5 (Matching exactly '0' or one 'a')  \n",
    "     \n",
    "     - Example 20:\n",
    "     \n",
    "   - Target = abacaad\n",
    "   - Pattern = a?\n",
    "   - Match = 8 (Matching exactly '0' or one 'a') \n",
    "   \n",
    " \n",
    " - a{n} : exactly n 'a's \n",
    "     \n",
    "     - Example 21:\n",
    "     \n",
    "        a{1} : exactly 1 'a'\n",
    "         - Target = abcd\n",
    "         - Pattern = a{1}\n",
    "         - Match = 1 (Matching exactly  one 'a)\n",
    "    \n",
    "     - Example 22: \n",
    "     \n",
    "        a{3} : exactly 2 'a's\n",
    "         - Target = abacaad\n",
    "         - Pattern = a{2}\n",
    "         - Match = 1 (Matching exactly  2 'a's)\n",
    "         \n",
    "    \n",
    " - a{m,n} : atleast m and atmost n number of a's\n",
    "            {minimum, maximum}\n",
    "       \n",
    "       - Example 23:\n",
    "       \n",
    "         a{1,3} : atleast 1 and atmost 3 number of a's\n",
    "                  {minimum, maximum}\n",
    "         - Target = abacaad\n",
    "         - Pattern = a{1,3}\n",
    "         - Match = 3 (Matching atleast 1 and atmost 3 'a's)\n",
    "         \n",
    "         \n",
    "         - Example 24:\n",
    "         \n",
    "         a{1,3} : atleast 1 and atmost 3 number of a's\n",
    "                  {minimum, maximum}\n",
    "         - Target = abacaadaaa hjbb abd aaa\n",
    "         - Pattern = a{1,3}\n",
    "         - Match = 6 (Matching atleast 1 and atmost 3 'a's)\n",
    "         \n",
    "         \n",
    "\n",
    " "
   ]
  },
  {
   "cell_type": "code",
   "execution_count": 3,
   "metadata": {},
   "outputs": [],
   "source": [
    "# **Regex Pattern**\n",
    "   \n",
    "#    $ : end's with\n",
    "#        - Example 24: \n",
    "#           - Target : sophia\n",
    "#                      indu\n",
    "#                      anu\n",
    "#                      harika\n",
    "#                      yash \n",
    "#           - Pattern: a$\n",
    "#           - Match = 2 (Matching ends with 'a')\n",
    "          \n",
    "#    ^  : starts with     \n",
    "#           - Target : sophia\n",
    "#                      indu\n",
    "#                      anu\n",
    "#                      harika\n",
    "#                      yash \n",
    "#           - Pattern: ^a\n",
    "#           - Match = 1 (Matching starts with 'a')\n",
    "          "
   ]
  },
  {
   "cell_type": "markdown",
   "metadata": {},
   "source": [
    "## write a regex pattern that can match python identifiers.\n",
    "\n",
    "**Python Identifiers: Any name of a variable in python\n",
    "**Rules for identifiers:\n",
    "  - Allowed characters: Alphabets,digits and underscore( _ ).\n",
    "  - Identifier should never start with a digit.\n",
    "  - Case sensitive.\n",
    "  - No length limit.\n",
    "  - Can't use reserve word(key words) as identifiers.\n",
    "  \n",
    "**Answer: ^[_a-zA-Z]\\w*$  "
   ]
  },
  {
   "cell_type": "markdown",
   "metadata": {},
   "source": [
    "## write a regex pattern that can match for email.\n",
    "**Answer:- \n",
    "- \\w*[a-z]*.[a-z]*\n",
    "- \\w+[@][a-z]*.com\n",
    "- [\\w.]@(gmail|yahoo).com"
   ]
  },
  {
   "cell_type": "markdown",
   "metadata": {},
   "source": [
    "## STEP-1 : Create pattern object"
   ]
  },
  {
   "cell_type": "code",
   "execution_count": 4,
   "metadata": {},
   "outputs": [
    {
     "name": "stdout",
     "output_type": "stream",
     "text": [
      "<class 're.Pattern'>\n"
     ]
    }
   ],
   "source": [
    "# compile() -> convert the pattern into regex object\n",
    "\n",
    "import re\n",
    "\n",
    "pattern = re.compile('Python')\n",
    "\n",
    "print(type(pattern))"
   ]
  },
  {
   "cell_type": "markdown",
   "metadata": {},
   "source": [
    "## STEP-2 : Create Matcher object"
   ]
  },
  {
   "cell_type": "code",
   "execution_count": 5,
   "metadata": {},
   "outputs": [
    {
     "name": "stdout",
     "output_type": "stream",
     "text": [
      "<class 'callable_iterator'>\n"
     ]
    }
   ],
   "source": [
    "# finditer() -> we can check how many matcher are available\n",
    "\n",
    "matcher = pattern.finditer('I Python am learning python Regex in Python!')\n",
    "\n",
    "print(type(matcher))"
   ]
  },
  {
   "cell_type": "markdown",
   "metadata": {},
   "source": [
    "## STEP-3 : Iterate over the Matcher"
   ]
  },
  {
   "cell_type": "code",
   "execution_count": 6,
   "metadata": {},
   "outputs": [
    {
     "name": "stdout",
     "output_type": "stream",
     "text": [
      "<class 're.Match'>\n",
      "Match is at:2, End:8, Pattern found: Python\n",
      "<class 're.Match'>\n",
      "Match is at:37, End:43, Pattern found: Python\n",
      "DONE!!\n"
     ]
    }
   ],
   "source": [
    "# start() -> starting index of matched string\n",
    "# end() -> end+1 index\n",
    "# group() -> returns matched sring\n",
    "\n",
    "for m in matcher:\n",
    "    print(type(m))\n",
    "    print('Match is at:{}, End:{}, Pattern found: {}'.\n",
    "          format(m.start(), m.end(), m.group()))\n",
    "print('DONE!!')"
   ]
  },
  {
   "cell_type": "markdown",
   "metadata": {},
   "source": [
    "## Using Various Combinations"
   ]
  },
  {
   "cell_type": "code",
   "execution_count": 7,
   "metadata": {},
   "outputs": [
    {
     "name": "stdout",
     "output_type": "stream",
     "text": [
      "ab 0 2\n",
      "ab 3 5\n",
      "ab 5 7\n"
     ]
    }
   ],
   "source": [
    "# Pattern = 'ab'\n",
    "# Target = 'abaababa'\n",
    "# Way - 1\n",
    "\n",
    "import re\n",
    "\n",
    "pattern = re.compile('ab')\n",
    "\n",
    "matcher = pattern.finditer('abaababa')\n",
    "\n",
    "for m in matcher:\n",
    "    print(m.group(), m.start(), m.end())"
   ]
  },
  {
   "cell_type": "code",
   "execution_count": 8,
   "metadata": {},
   "outputs": [
    {
     "name": "stdout",
     "output_type": "stream",
     "text": [
      "ab 0 2\n",
      "ab 3 5\n",
      "ab 5 7\n"
     ]
    }
   ],
   "source": [
    "# Way - 2\n",
    "\n",
    "import re\n",
    "\n",
    "matcher = re.compile('ab').finditer('abaababa')\n",
    "\n",
    "for m in matcher:\n",
    "    print(m.group(), m.start(), m.end())"
   ]
  },
  {
   "cell_type": "code",
   "execution_count": 9,
   "metadata": {},
   "outputs": [
    {
     "name": "stdout",
     "output_type": "stream",
     "text": [
      "aaaaa 0 5\n",
      "aaa 11 14\n",
      "aa 21 23\n",
      "a 30 31\n"
     ]
    }
   ],
   "source": [
    "# Way - 3\n",
    "# re.finditer(pattern, target)\n",
    "\n",
    "import re\n",
    "\n",
    "matcher = re.finditer('a+', 'aaaaabbcdegaaabdfgfdgaabjukilua')\n",
    "\n",
    "for m in matcher:\n",
    "    print(m.group(), m.start(), m.end())"
   ]
  },
  {
   "cell_type": "code",
   "execution_count": 10,
   "metadata": {},
   "outputs": [
    {
     "name": "stdout",
     "output_type": "stream",
     "text": [
      "Match is at:0, End:2, Pattern found: ab\n",
      "Match is at:3, End:5, Pattern found: ab\n",
      "Match is at:5, End:7, Pattern found: ab\n",
      "Total count:  3\n"
     ]
    }
   ],
   "source": [
    "import re\n",
    "\n",
    "matcher = re.finditer('ab', 'abaababa')\n",
    "\n",
    "count = 0\n",
    "\n",
    "for m in matcher:\n",
    "    count += 1\n",
    "    print('Match is at:{}, End:{}, Pattern found: {}'.format(m.start(), m.end(), m.group()))\n",
    "print('Total count: ',count)"
   ]
  },
  {
   "cell_type": "code",
   "execution_count": 11,
   "metadata": {},
   "outputs": [
    {
     "name": "stdout",
     "output_type": "stream",
     "text": [
      "Match is at:1, End:3, Pattern found: ba\n",
      "Match is at:4, End:6, Pattern found: ba\n",
      "Match is at:6, End:8, Pattern found: ba\n",
      "Total count:  3\n"
     ]
    }
   ],
   "source": [
    "matcher = re.finditer('ba', 'abaababa')\n",
    "\n",
    "count = 0\n",
    "\n",
    "for m in matcher:\n",
    "    count += 1\n",
    "    print('Match is at:{}, End:{}, Pattern found: {}'.format(m.start(), m.end(), m.group()))\n",
    "print('Total count: ',count)"
   ]
  },
  {
   "cell_type": "code",
   "execution_count": 12,
   "metadata": {},
   "outputs": [
    {
     "name": "stdout",
     "output_type": "stream",
     "text": [
      "<class 'list'>\n",
      "<class 'int'>\n",
      "<class 'float'>\n",
      "<class 'str'>\n",
      "<class 'bool'>\n"
     ]
    }
   ],
   "source": [
    "lst = [1, 2.0, '3', True]\n",
    "\n",
    "print(type(lst))\n",
    "\n",
    "for i in lst:\n",
    "    print(type(i))"
   ]
  },
  {
   "cell_type": "code",
   "execution_count": 13,
   "metadata": {},
   "outputs": [
    {
     "name": "stdout",
     "output_type": "stream",
     "text": [
      "<class 'callable_iterator'>\n",
      "an 1 3\n",
      "<class 're.Match'>\n",
      "an 7 9\n",
      "<class 're.Match'>\n"
     ]
    }
   ],
   "source": [
    "matcher = re.finditer('an', 'Kanav Bansal')\n",
    "\n",
    "print(type(matcher))\n",
    "\n",
    "for m in matcher:\n",
    "    print(m.group(), m.start(), m.end())\n",
    "    print(type(m))"
   ]
  },
  {
   "cell_type": "code",
   "execution_count": 14,
   "metadata": {},
   "outputs": [
    {
     "name": "stdout",
     "output_type": "stream",
     "text": [
      "Match is at: 0, End: 1, Pattern found: a\n",
      "Match is at: 2, End: 3, Pattern found: b\n",
      "Total count:  2\n"
     ]
    }
   ],
   "source": [
    "matcher = re.finditer('[abc]', 'a7b@ k9z')\n",
    "\n",
    "count = 0\n",
    "\n",
    "for m in matcher:\n",
    "    count += 1\n",
    "    print('Match is at: {}, End: {}, Pattern found: {}'.format(m.start(), m.end(), m.group()))\n",
    "print('Total count: ',count)"
   ]
  },
  {
   "cell_type": "code",
   "execution_count": 15,
   "metadata": {},
   "outputs": [
    {
     "name": "stdout",
     "output_type": "stream",
     "text": [
      "Match is at: 0, End: 1, Pattern found: a\n",
      "Match is at: 2, End: 3, Pattern found: b\n",
      "Match is at: 5, End: 6, Pattern found: k\n",
      "Match is at: 7, End: 8, Pattern found: z\n",
      "Total count:  4\n"
     ]
    }
   ],
   "source": [
    "matcher = re.finditer('[a-z]', 'a7b@ k9z')\n",
    "\n",
    "count = 0\n",
    "\n",
    "for m in matcher:\n",
    "    count += 1\n",
    "    print('Match is at: {}, End: {}, Pattern found: {}'.format(m.start(), m.end(), m.group()))\n",
    "print('Total count: ',count)"
   ]
  },
  {
   "cell_type": "code",
   "execution_count": 16,
   "metadata": {},
   "outputs": [
    {
     "name": "stdout",
     "output_type": "stream",
     "text": [
      "Match is at: 1, End: 2, Pattern found: 7\n",
      "Match is at: 3, End: 4, Pattern found: @\n",
      "Match is at: 4, End: 5, Pattern found:  \n",
      "Match is at: 6, End: 7, Pattern found: 9\n",
      "Total count:  4\n"
     ]
    }
   ],
   "source": [
    "matcher = re.finditer('[^a-z]', 'a7b@ k9z')\n",
    "\n",
    "count = 0\n",
    "\n",
    "for m in matcher:\n",
    "    count += 1\n",
    "    print('Match is at: {}, End: {}, Pattern found: {}'.format(m.start(), m.end(), m.group()))\n",
    "print('Total count: ',count)"
   ]
  },
  {
   "cell_type": "code",
   "execution_count": 17,
   "metadata": {},
   "outputs": [
    {
     "name": "stdout",
     "output_type": "stream",
     "text": [
      "Match is at: 4, End: 5, Pattern found:  \n",
      "Total count:  1\n"
     ]
    }
   ],
   "source": [
    "matcher = re.finditer('\\s', 'a7b@ k9z')\n",
    "\n",
    "count = 0\n",
    "\n",
    "for m in matcher:\n",
    "    count += 1\n",
    "    print('Match is at: {}, End: {}, Pattern found: {}'.format(m.start(), m.end(), m.group()))\n",
    "print('Total count: ',count)"
   ]
  },
  {
   "cell_type": "code",
   "execution_count": 18,
   "metadata": {},
   "outputs": [
    {
     "name": "stdout",
     "output_type": "stream",
     "text": [
      "Match is at: 0, End: 1, Pattern found: a\n",
      "Match is at: 1, End: 2, Pattern found: 7\n",
      "Match is at: 2, End: 3, Pattern found: b\n",
      "Match is at: 5, End: 6, Pattern found: k\n",
      "Match is at: 6, End: 7, Pattern found: 9\n",
      "Match is at: 7, End: 8, Pattern found: z\n",
      "Total count:  6\n"
     ]
    }
   ],
   "source": [
    "matcher = re.finditer('\\w', 'a7b@ k9z')\n",
    "\n",
    "count = 0\n",
    "\n",
    "for m in matcher:\n",
    "    count += 1\n",
    "    print('Match is at: {}, End: {}, Pattern found: {}'.format(m.start(), m.end(), m.group()))\n",
    "print('Total count: ',count)"
   ]
  },
  {
   "cell_type": "code",
   "execution_count": 19,
   "metadata": {},
   "outputs": [
    {
     "name": "stdout",
     "output_type": "stream",
     "text": [
      "Match is at: 3, End: 4, Pattern found: @\n",
      "Match is at: 4, End: 5, Pattern found:  \n",
      "Total count:  2\n"
     ]
    }
   ],
   "source": [
    "matcher = re.finditer('\\W', 'a7b@ k9z')\n",
    "\n",
    "count = 0\n",
    "\n",
    "for m in matcher:\n",
    "    count += 1\n",
    "    print('Match is at: {}, End: {}, Pattern found: {}'.format(m.start(), m.end(), m.group()))\n",
    "print('Total count: ',count)"
   ]
  },
  {
   "cell_type": "code",
   "execution_count": 20,
   "metadata": {},
   "outputs": [
    {
     "name": "stdout",
     "output_type": "stream",
     "text": [
      "Match is at: 0, End: 1, Pattern found: a\n",
      "Total count:  1\n"
     ]
    }
   ],
   "source": [
    "matcher = re.finditer('^a', 'a7b@ k9z')\n",
    "\n",
    "count = 0\n",
    "\n",
    "for m in matcher:\n",
    "    count += 1\n",
    "    print('Match is at: {}, End: {}, Pattern found: {}'.format(m.start(), m.end(), m.group()))\n",
    "print('Total count: ',count)"
   ]
  },
  {
   "cell_type": "code",
   "execution_count": 21,
   "metadata": {},
   "outputs": [
    {
     "name": "stdout",
     "output_type": "stream",
     "text": [
      "Match is at: 7, End: 8, Pattern found: z\n",
      "Total count:  1\n"
     ]
    }
   ],
   "source": [
    "matcher = re.finditer('z$', 'a7b@ k9z')\n",
    "\n",
    "count = 0\n",
    "\n",
    "for m in matcher:\n",
    "    count += 1\n",
    "    print('Match is at: {}, End: {}, Pattern found: {}'.format(m.start(), m.end(), m.group()))\n",
    "print('Total count: ',count)"
   ]
  },
  {
   "cell_type": "code",
   "execution_count": 22,
   "metadata": {},
   "outputs": [
    {
     "name": "stdout",
     "output_type": "stream",
     "text": [
      "Match is at: 0, End: 1, Pattern found: a\n",
      "Match is at: 2, End: 3, Pattern found: a\n",
      "Match is at: 3, End: 4, Pattern found: a\n",
      "Match is at: 5, End: 6, Pattern found: a\n",
      "Match is at: 7, End: 8, Pattern found: a\n",
      "Total count:  5\n"
     ]
    }
   ],
   "source": [
    "matcher = re.finditer('a', 'abaababa')\n",
    "\n",
    "count = 0\n",
    "\n",
    "for m in matcher:\n",
    "    count += 1\n",
    "    print('Match is at: {}, End: {}, Pattern found: {}'.format(m.start(), m.end(), m.group()))\n",
    "print('Total count: ',count)"
   ]
  },
  {
   "cell_type": "code",
   "execution_count": 23,
   "metadata": {},
   "outputs": [
    {
     "name": "stdout",
     "output_type": "stream",
     "text": [
      "Match is at: 0, End: 1, Pattern found: a\n",
      "Match is at: 2, End: 4, Pattern found: aa\n",
      "Match is at: 5, End: 6, Pattern found: a\n",
      "Match is at: 7, End: 8, Pattern found: a\n",
      "Total count:  4\n"
     ]
    }
   ],
   "source": [
    "matcher = re.finditer('a+', 'abaababa')\n",
    "\n",
    "count = 0\n",
    "\n",
    "for m in matcher:\n",
    "    count += 1\n",
    "    print('Match is at: {}, End: {}, Pattern found: {}'.format(m.start(), m.end(), m.group()))\n",
    "print('Total count: ',count)"
   ]
  },
  {
   "cell_type": "code",
   "execution_count": 24,
   "metadata": {},
   "outputs": [
    {
     "name": "stdout",
     "output_type": "stream",
     "text": [
      "Match is at: 0, End: 1, Pattern found: a\n",
      "Match is at: 1, End: 1, Pattern found: \n",
      "Match is at: 2, End: 4, Pattern found: aa\n",
      "Match is at: 4, End: 4, Pattern found: \n",
      "Match is at: 5, End: 6, Pattern found: a\n",
      "Match is at: 6, End: 6, Pattern found: \n",
      "Match is at: 7, End: 8, Pattern found: a\n",
      "Match is at: 8, End: 8, Pattern found: \n",
      "Total count:  8\n"
     ]
    }
   ],
   "source": [
    "matcher = re.finditer('a*', 'abaababa')\n",
    "\n",
    "count = 0\n",
    "\n",
    "for m in matcher:\n",
    "    count += 1\n",
    "    print('Match is at: {}, End: {}, Pattern found: {}'.format(m.start(), m.end(), m.group()))\n",
    "print('Total count: ',count)"
   ]
  },
  {
   "cell_type": "code",
   "execution_count": 25,
   "metadata": {},
   "outputs": [
    {
     "name": "stdout",
     "output_type": "stream",
     "text": [
      "Match is at: 0, End: 1, Pattern found: a\n",
      "Match is at: 1, End: 1, Pattern found: \n",
      "Match is at: 2, End: 3, Pattern found: a\n",
      "Match is at: 3, End: 4, Pattern found: a\n",
      "Match is at: 4, End: 4, Pattern found: \n",
      "Match is at: 5, End: 6, Pattern found: a\n",
      "Match is at: 6, End: 6, Pattern found: \n",
      "Match is at: 7, End: 8, Pattern found: a\n",
      "Match is at: 8, End: 8, Pattern found: \n",
      "Total count:  9\n"
     ]
    }
   ],
   "source": [
    "matcher = re.finditer('a?', 'abaababa')\n",
    "\n",
    "count = 0\n",
    "\n",
    "for m in matcher:\n",
    "    count += 1\n",
    "    print('Match is at: {}, End: {}, Pattern found: {}'.format(m.start(), m.end(), m.group()))\n",
    "print('Total count: ',count)"
   ]
  },
  {
   "cell_type": "code",
   "execution_count": 26,
   "metadata": {},
   "outputs": [
    {
     "name": "stdout",
     "output_type": "stream",
     "text": [
      "Match is at: 0, End: 1, Pattern found: a\n",
      "Match is at: 1, End: 1, Pattern found: \n",
      "Match is at: 2, End: 3, Pattern found: a\n",
      "Match is at: 3, End: 4, Pattern found: a\n",
      "Match is at: 4, End: 4, Pattern found: \n",
      "Match is at: 5, End: 5, Pattern found: \n",
      "Match is at: 6, End: 7, Pattern found: a\n",
      "Match is at: 7, End: 7, Pattern found: \n",
      "Match is at: 8, End: 9, Pattern found: a\n",
      "Match is at: 9, End: 9, Pattern found: \n",
      "Match is at: 10, End: 10, Pattern found: \n",
      "Match is at: 11, End: 11, Pattern found: \n",
      "Match is at: 12, End: 12, Pattern found: \n",
      "Total count:  13\n"
     ]
    }
   ],
   "source": [
    "matcher = re.finditer('a?', 'abaabbababbb')\n",
    "\n",
    "count = 0\n",
    "\n",
    "for m in matcher:\n",
    "    count += 1\n",
    "    print('Match is at: {}, End: {}, Pattern found: {}'.format(m.start(), m.end(), m.group()))\n",
    "print('Total count: ',count)"
   ]
  },
  {
   "cell_type": "markdown",
   "metadata": {},
   "source": [
    "## re.match()"
   ]
  },
  {
   "cell_type": "code",
   "execution_count": 28,
   "metadata": {},
   "outputs": [
    {
     "name": "stdout",
     "output_type": "stream",
     "text": [
      "Enter pattern: bcd\n",
      "<class 'NoneType'>\n",
      "Match is not available at beginning of the string!\n"
     ]
    }
   ],
   "source": [
    "# Used to match the given pattern at the beginning of the target string\n",
    "# If it finds the pattern than returns match object.\n",
    "# Now we can use start(), end(), group() with match object\n",
    "# If nothing found then retuns None.\n",
    "\n",
    "\n",
    "import re\n",
    "\n",
    "regex = input('Enter pattern: ')\n",
    "\n",
    "m = re.match(regex, 'abcdefgh')\n",
    "\n",
    "print(type(m))\n",
    "\n",
    "if m == None:\n",
    "    print('Match is not available at beginning of the string!')\n",
    "\n",
    "else:\n",
    "    print('Match found at beginning of the string.')\n",
    "    print('Match is at: {}, End: {}, Pattern found: {}'.format(m.start(), m.end(), m.group()))\n",
    "    "
   ]
  },
  {
   "cell_type": "code",
   "execution_count": 29,
   "metadata": {},
   "outputs": [
    {
     "name": "stdout",
     "output_type": "stream",
     "text": [
      "Enter pattern: bcd\n",
      "Match available.\n",
      "First occurance is at: 1, End: 4, Pattern found: bcd\n"
     ]
    }
   ],
   "source": [
    "# search the target irrespective of the location\n",
    "# If match is found returns the first occurance\n",
    "# otherwie returns None.\n",
    "\n",
    "# If it finds the pattern than returns match object.\n",
    "# Now we can use start(), end(), group() with match object\n",
    "# If nothing found then retuns None.\n",
    "\n",
    "\n",
    "import re\n",
    "\n",
    "regex = input('Enter pattern: ')\n",
    "\n",
    "m = re.search(regex, 'abcdefghi')\n",
    "\n",
    "if m != None:\n",
    "    print('Match available.')\n",
    "    print('First occurance is at: {}, End: {}, Pattern found: {}'.format(m.start(), m.end(), m.group()))\n",
    "\n",
    "else:\n",
    "    print('Match is not available in the whole string!')\n",
    "    "
   ]
  },
  {
   "cell_type": "markdown",
   "metadata": {},
   "source": [
    "## re.match() vs re.search()"
   ]
  },
  {
   "cell_type": "code",
   "execution_count": 30,
   "metadata": {},
   "outputs": [
    {
     "name": "stdout",
     "output_type": "stream",
     "text": [
      "NO MATCH\n",
      "SEARCH SUCC\n"
     ]
    }
   ],
   "source": [
    "target = 'Dogs are better than cats'\n",
    "\n",
    "pattern = 'cats'\n",
    "\n",
    "m = re.match(pattern, target)\n",
    "\n",
    "if m == None:\n",
    "    print('NO MATCH')\n",
    "else:\n",
    "    print('MATCH SUCC')\n",
    "    \n",
    "m = re.search(pattern, target)\n",
    "\n",
    "if m == None:\n",
    "    print('NO SEARCH')\n",
    "else:\n",
    "    print('SEARCH SUCC')"
   ]
  },
  {
   "cell_type": "markdown",
   "metadata": {},
   "source": [
    "## re.findall()"
   ]
  },
  {
   "cell_type": "code",
   "execution_count": 31,
   "metadata": {},
   "outputs": [
    {
     "name": "stdout",
     "output_type": "stream",
     "text": [
      "['0', '2', '9', '1']\n"
     ]
    }
   ],
   "source": [
    "# find all matches and returns a list\n",
    "\n",
    "import re\n",
    "\n",
    "lst = re.findall('[0-9]', '0@kM29-1')\n",
    "\n",
    "print(lst)"
   ]
  },
  {
   "cell_type": "code",
   "execution_count": 32,
   "metadata": {},
   "outputs": [
    {
     "name": "stdout",
     "output_type": "stream",
     "text": [
      "<callable_iterator object at 0x000002294988FFA0>\n",
      "0\n",
      "2\n",
      "9\n",
      "1\n"
     ]
    }
   ],
   "source": [
    "import re\n",
    "\n",
    "matcher = re.finditer('[0-9]', '0@kM29-1')\n",
    "\n",
    "print(matcher)\n",
    "\n",
    "for m in matcher:\n",
    "    print(m.group())"
   ]
  },
  {
   "cell_type": "code",
   "execution_count": 33,
   "metadata": {},
   "outputs": [
    {
     "name": "stdout",
     "output_type": "stream",
     "text": [
      "{'1', '3', '5', '4', '2'}\n"
     ]
    }
   ],
   "source": [
    "targetString = 'aif ajahf abf hbahfvajdvf aaf1231231321 123 123 123 123134253 4'\n",
    "\n",
    "regex = '\\d'\n",
    "\n",
    "lst = re.findall(regex, targetString)\n",
    "\n",
    "print(set(lst))\n",
    "\n",
    "# ['a', 'd', 'c']\n",
    "# adc"
   ]
  },
  {
   "cell_type": "markdown",
   "metadata": {},
   "source": [
    "## Search and Replace"
   ]
  },
  {
   "cell_type": "code",
   "execution_count": 34,
   "metadata": {},
   "outputs": [
    {
     "name": "stdout",
     "output_type": "stream",
     "text": [
      "a#b#j#k#h#\n"
     ]
    }
   ],
   "source": [
    "# re.sub(pattern, replacement, targetString)\n",
    "\n",
    "import re\n",
    "\n",
    "s = re.sub('\\d', '#', 'a7b6j9k2h4')\n",
    "\n",
    "print(s)"
   ]
  },
  {
   "cell_type": "code",
   "execution_count": 35,
   "metadata": {},
   "outputs": [
    {
     "name": "stdout",
     "output_type": "stream",
     "text": [
      "Phone num:  1233-123-345 # This is a phone\n",
      "Phone num:  1233-123-345 \n",
      "Phone num:  1233123345\n"
     ]
    }
   ],
   "source": [
    "# re.sub(regex, replacement, targetString)\n",
    "\n",
    "import re\n",
    "\n",
    "phone = '1233-123-345 # This is a phone'\n",
    "\n",
    "print('Phone num: ', phone)\n",
    "\n",
    "num = re.sub('#.*$', '', phone)\n",
    "\n",
    "print('Phone num: ',num)\n",
    "\n",
    "num = re.sub('\\D', '', phone)\n",
    "\n",
    "print('Phone num: ', num)"
   ]
  },
  {
   "cell_type": "markdown",
   "metadata": {},
   "source": [
    "## re.split()"
   ]
  },
  {
   "cell_type": "code",
   "execution_count": 36,
   "metadata": {},
   "outputs": [
    {
     "name": "stdout",
     "output_type": "stream",
     "text": [
      "['I', 'Learn', 'Python', 'Regex']\n"
     ]
    }
   ],
   "source": [
    "import re\n",
    "\n",
    "l = re.split('-', 'I-Learn-Python-Regex')\n",
    "\n",
    "print(l)"
   ]
  },
  {
   "cell_type": "code",
   "execution_count": 37,
   "metadata": {},
   "outputs": [
    {
     "name": "stdout",
     "output_type": "stream",
     "text": [
      "['abcdefg', 'gmail', 'com']\n"
     ]
    }
   ],
   "source": [
    "import re\n",
    "\n",
    "l = re.split('\\W', 'abcdefg@gmail.com')\n",
    "\n",
    "print(l)"
   ]
  },
  {
   "cell_type": "code",
   "execution_count": 38,
   "metadata": {},
   "outputs": [
    {
     "name": "stdout",
     "output_type": "stream",
     "text": [
      "['www', 'facebook', 'com']\n"
     ]
    }
   ],
   "source": [
    "import re\n",
    "\n",
    "l = re.split('[.]', 'www.facebook.com')\n",
    "\n",
    "print(l)"
   ]
  },
  {
   "cell_type": "markdown",
   "metadata": {},
   "source": [
    "## Other Examples"
   ]
  },
  {
   "cell_type": "code",
   "execution_count": 39,
   "metadata": {},
   "outputs": [
    {
     "name": "stdout",
     "output_type": "stream",
     "text": [
      "Not Cool!!\n"
     ]
    }
   ],
   "source": [
    "# # re.IGNORECASE flag\n",
    "\n",
    "import re\n",
    "\n",
    "s = 'I am learning Python'\n",
    "\n",
    "m = re.search('python$', s)\n",
    "\n",
    "if m:\n",
    "    print('Cool!!')\n",
    "    \n",
    "else:\n",
    "    print('Not Cool!!')"
   ]
  },
  {
   "cell_type": "code",
   "execution_count": 40,
   "metadata": {},
   "outputs": [
    {
     "name": "stdout",
     "output_type": "stream",
     "text": [
      "Enter any identifier to validate: matcher\n",
      "matcher is valid\n"
     ]
    }
   ],
   "source": [
    "# # Python Identifier\n",
    "\n",
    "import re\n",
    "\n",
    "s = input('Enter any identifier to validate: ')\n",
    "\n",
    "m = re.fullmatch('[a-zA-Z_]+[a-zA-Z0-9_]*', s)\n",
    "\n",
    "if m:\n",
    "    print(s, 'is valid')\n",
    "else:\n",
    "    print(s, 'not valid')"
   ]
  },
  {
   "cell_type": "code",
   "execution_count": 41,
   "metadata": {},
   "outputs": [
    {
     "name": "stdout",
     "output_type": "stream",
     "text": [
      "Enter a mobile number to validate: 9504532665\n",
      "9504532665 is Valid\n"
     ]
    }
   ],
   "source": [
    "# # Match Phone number\n",
    "\n",
    "import re\n",
    "\n",
    "s = input('Enter a mobile number to validate: ')\n",
    "\n",
    "m = re.fullmatch('[6-9]\\d{9}', s)\n",
    "\n",
    "if m:\n",
    "    print(s, 'is Valid')\n",
    "else:\n",
    "    print(s, 'not valid')"
   ]
  },
  {
   "cell_type": "code",
   "execution_count": null,
   "metadata": {},
   "outputs": [],
   "source": []
  },
  {
   "cell_type": "code",
   "execution_count": null,
   "metadata": {},
   "outputs": [],
   "source": []
  },
  {
   "cell_type": "code",
   "execution_count": null,
   "metadata": {},
   "outputs": [],
   "source": []
  },
  {
   "cell_type": "code",
   "execution_count": null,
   "metadata": {},
   "outputs": [],
   "source": []
  },
  {
   "cell_type": "code",
   "execution_count": null,
   "metadata": {},
   "outputs": [],
   "source": []
  },
  {
   "cell_type": "code",
   "execution_count": null,
   "metadata": {},
   "outputs": [],
   "source": []
  },
  {
   "cell_type": "code",
   "execution_count": null,
   "metadata": {},
   "outputs": [],
   "source": []
  },
  {
   "cell_type": "code",
   "execution_count": null,
   "metadata": {},
   "outputs": [],
   "source": []
  },
  {
   "cell_type": "code",
   "execution_count": null,
   "metadata": {},
   "outputs": [],
   "source": []
  },
  {
   "cell_type": "code",
   "execution_count": null,
   "metadata": {},
   "outputs": [],
   "source": []
  },
  {
   "cell_type": "code",
   "execution_count": null,
   "metadata": {},
   "outputs": [],
   "source": []
  },
  {
   "cell_type": "code",
   "execution_count": null,
   "metadata": {},
   "outputs": [],
   "source": []
  },
  {
   "cell_type": "code",
   "execution_count": null,
   "metadata": {},
   "outputs": [],
   "source": []
  },
  {
   "cell_type": "code",
   "execution_count": null,
   "metadata": {},
   "outputs": [],
   "source": []
  },
  {
   "cell_type": "code",
   "execution_count": null,
   "metadata": {},
   "outputs": [],
   "source": []
  },
  {
   "cell_type": "code",
   "execution_count": null,
   "metadata": {},
   "outputs": [],
   "source": []
  },
  {
   "cell_type": "code",
   "execution_count": null,
   "metadata": {},
   "outputs": [],
   "source": []
  },
  {
   "cell_type": "code",
   "execution_count": null,
   "metadata": {},
   "outputs": [],
   "source": []
  },
  {
   "cell_type": "code",
   "execution_count": null,
   "metadata": {},
   "outputs": [],
   "source": []
  },
  {
   "cell_type": "code",
   "execution_count": null,
   "metadata": {},
   "outputs": [],
   "source": []
  },
  {
   "cell_type": "code",
   "execution_count": null,
   "metadata": {},
   "outputs": [],
   "source": []
  },
  {
   "cell_type": "code",
   "execution_count": null,
   "metadata": {},
   "outputs": [],
   "source": []
  },
  {
   "cell_type": "code",
   "execution_count": null,
   "metadata": {},
   "outputs": [],
   "source": []
  },
  {
   "cell_type": "code",
   "execution_count": null,
   "metadata": {},
   "outputs": [],
   "source": []
  },
  {
   "cell_type": "code",
   "execution_count": null,
   "metadata": {},
   "outputs": [],
   "source": []
  },
  {
   "cell_type": "code",
   "execution_count": null,
   "metadata": {},
   "outputs": [],
   "source": []
  },
  {
   "cell_type": "code",
   "execution_count": null,
   "metadata": {},
   "outputs": [],
   "source": []
  },
  {
   "cell_type": "code",
   "execution_count": null,
   "metadata": {},
   "outputs": [],
   "source": []
  },
  {
   "cell_type": "code",
   "execution_count": null,
   "metadata": {},
   "outputs": [],
   "source": []
  },
  {
   "cell_type": "code",
   "execution_count": null,
   "metadata": {},
   "outputs": [],
   "source": []
  },
  {
   "cell_type": "code",
   "execution_count": null,
   "metadata": {},
   "outputs": [],
   "source": []
  },
  {
   "cell_type": "code",
   "execution_count": null,
   "metadata": {},
   "outputs": [],
   "source": []
  },
  {
   "cell_type": "code",
   "execution_count": null,
   "metadata": {},
   "outputs": [],
   "source": []
  },
  {
   "cell_type": "code",
   "execution_count": null,
   "metadata": {},
   "outputs": [],
   "source": []
  },
  {
   "cell_type": "code",
   "execution_count": null,
   "metadata": {},
   "outputs": [],
   "source": []
  },
  {
   "cell_type": "code",
   "execution_count": null,
   "metadata": {},
   "outputs": [],
   "source": []
  },
  {
   "cell_type": "code",
   "execution_count": null,
   "metadata": {},
   "outputs": [],
   "source": []
  },
  {
   "cell_type": "code",
   "execution_count": null,
   "metadata": {},
   "outputs": [],
   "source": []
  },
  {
   "cell_type": "code",
   "execution_count": null,
   "metadata": {},
   "outputs": [],
   "source": []
  },
  {
   "cell_type": "code",
   "execution_count": null,
   "metadata": {},
   "outputs": [],
   "source": []
  },
  {
   "cell_type": "code",
   "execution_count": null,
   "metadata": {},
   "outputs": [],
   "source": []
  },
  {
   "cell_type": "code",
   "execution_count": null,
   "metadata": {},
   "outputs": [],
   "source": []
  },
  {
   "cell_type": "code",
   "execution_count": null,
   "metadata": {},
   "outputs": [],
   "source": []
  },
  {
   "cell_type": "code",
   "execution_count": null,
   "metadata": {},
   "outputs": [],
   "source": []
  },
  {
   "cell_type": "code",
   "execution_count": null,
   "metadata": {},
   "outputs": [],
   "source": []
  },
  {
   "cell_type": "code",
   "execution_count": null,
   "metadata": {},
   "outputs": [],
   "source": []
  }
 ],
 "metadata": {
  "kernelspec": {
   "display_name": "Python 3",
   "language": "python",
   "name": "python3"
  },
  "language_info": {
   "codemirror_mode": {
    "name": "ipython",
    "version": 3
   },
   "file_extension": ".py",
   "mimetype": "text/x-python",
   "name": "python",
   "nbconvert_exporter": "python",
   "pygments_lexer": "ipython3",
   "version": "3.8.5"
  }
 },
 "nbformat": 4,
 "nbformat_minor": 4
}
